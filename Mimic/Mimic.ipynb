{
 "cells": [
  {
   "cell_type": "code",
   "execution_count": 1,
   "metadata": {
    "collapsed": true
   },
   "outputs": [],
   "source": [
    "from sympy import *\n",
    "import numpy as np\n",
    "from mpl_toolkits.mplot3d import Axes3D\n",
    "import matplotlib.pyplot as plt"
   ]
  },
  {
   "cell_type": "code",
   "execution_count": 2,
   "metadata": {
    "collapsed": true
   },
   "outputs": [],
   "source": [
    "#Cool Printing\n",
    "init_printing()"
   ]
  },
  {
   "cell_type": "code",
   "execution_count": 3,
   "metadata": {
    "collapsed": true
   },
   "outputs": [],
   "source": [
    "#Defining Variables\n",
    "J_1,J_2,omega,x_1,x_2,mu, rho_1,rho_2=symbols(\"J_1 J_2 omega x_1 x_2 mu rho_1 rho_2\",\n",
    "                                             real=True)\n",
    "omega=(1+3*(J_1+J_2))"
   ]
  },
  {
   "cell_type": "code",
   "execution_count": 4,
   "metadata": {
    "collapsed": false
   },
   "outputs": [],
   "source": [
    "poly_rho1=omega*rho_1**5-rho_1**2-3*J_1\n",
    "poly_rho2=omega*rho_2**5-rho_2**2-3*J_2"
   ]
  },
  {
   "cell_type": "code",
   "execution_count": 5,
   "metadata": {
    "collapsed": true
   },
   "outputs": [],
   "source": [
    "fig = plt.figure()\n",
    "ax = fig.add_subplot(111, projection='3d')\n",
    "supercount=1\n"
   ]
  },
  {
   "cell_type": "code",
   "execution_count": 6,
   "metadata": {
    "collapsed": false
   },
   "outputs": [
    {
     "name": "stdout",
     "output_type": "stream",
     "text": [
      "Finished 1/10, iteration 1/5. Value: 0.038521\n",
      "Finished 2/10, iteration 1/5. Value: 0.034688\n",
      "Finished 3/10, iteration 1/5. Value: 0.032000\n",
      "Finished 4/10, iteration 1/5. Value: 0.030008\n",
      "Finished 5/10, iteration 1/5. Value: 0.028471\n",
      "Finished 6/10, iteration 1/5. Value: 0.027250\n",
      "Finished 7/10, iteration 1/5. Value: 0.026254\n",
      "Finished 8/10, iteration 1/5. Value: 0.025427\n",
      "Finished 9/10, iteration 1/5. Value: 0.024729\n",
      "Finished 10/10, iteration 1/5. Value: 0.024131\n",
      "Finished 1/10, iteration 2/5. Value: 0.038521\n",
      "Finished 2/10, iteration 2/5. Value: 0.030893\n",
      "Finished 3/10, iteration 2/5. Value: 0.024955\n",
      "Finished 4/10, iteration 2/5. Value: 0.020247\n",
      "Finished 5/10, iteration 2/5. Value: 0.016465\n",
      "Finished 6/10, iteration 2/5. Value: 0.013400\n",
      "Finished 7/10, iteration 2/5. Value: 0.010900\n",
      "Finished 8/10, iteration 2/5. Value: 0.008853\n",
      "Finished 9/10, iteration 2/5. Value: 0.007170\n",
      "Finished 10/10, iteration 2/5. Value: 0.005785\n",
      "Finished 1/10, iteration 3/5. Value: 0.038521\n",
      "Finished 2/10, iteration 3/5. Value: 0.028549\n",
      "Finished 3/10, iteration 3/5. Value: 0.021192\n",
      "Finished 4/10, iteration 3/5. Value: 0.015736\n",
      "Finished 5/10, iteration 3/5. Value: 0.011667\n",
      "Finished 6/10, iteration 3/5. Value: 0.008618\n",
      "Finished 7/10, iteration 3/5. Value: 0.006324\n",
      "Finished 8/10, iteration 3/5. Value: 0.004595\n",
      "Finished 9/10, iteration 3/5. Value: 0.003291\n",
      "Finished 10/10, iteration 3/5. Value: 0.002310\n",
      "Finished 1/10, iteration 4/5. Value: 0.038521\n",
      "Finished 2/10, iteration 4/5. Value: 0.026659\n",
      "Finished 3/10, iteration 4/5. Value: 0.018445\n",
      "Finished 4/10, iteration 4/5. Value: 0.012731\n",
      "Finished 5/10, iteration 4/5. Value: 0.008734\n",
      "Finished 6/10, iteration 4/5. Value: 0.005924\n",
      "Finished 7/10, iteration 4/5. Value: 0.003947\n",
      "Finished 8/10, iteration 4/5. Value: 0.002560\n",
      "Finished 9/10, iteration 4/5. Value: 0.001594\n",
      "Finished 10/10, iteration 4/5. Value: 0.000933\n",
      "Finished 1/10, iteration 5/5. Value: 0.038521\n",
      "Finished 2/10, iteration 5/5. Value: 0.024779\n",
      "Finished 3/10, iteration 5/5. Value: 0.015951\n",
      "Finished 4/10, iteration 5/5. Value: 0.010210\n",
      "Finished 5/10, iteration 5/5. Value: 0.006442\n",
      "Finished 6/10, iteration 5/5. Value: 0.003962\n",
      "Finished 7/10, iteration 5/5. Value: 0.002337\n",
      "Finished 8/10, iteration 5/5. Value: 0.001288\n",
      "Finished 9/10, iteration 5/5. Value: 0.000634\n",
      "Finished 10/10, iteration 5/5. Value: 0.000252\n"
     ]
    },
    {
     "data": {
      "text/plain": [
       "Text(0.5,0,'mu_{crit}')"
      ]
     },
     "execution_count": 6,
     "metadata": {},
     "output_type": "execute_result"
    }
   ],
   "source": [
    "slope_list=np.tan(np.linspace(0,np.pi/2.,5, endpoint=False))\n",
    "\n",
    "for m in slope_list:\n",
    "    set_of_mu=[]\n",
    "    count=0\n",
    "    for t in np.linspace(0, 1./(3*(m+1)),10):        \n",
    "        j1=m*t\n",
    "        poly1_subs=poly_rho1.subs(J_1,j1).subs(J_2,t)\n",
    "        poly2_subs=poly_rho2.subs(J_1,j1).subs(J_2,t)\n",
    "        \n",
    "        rho1_value=solve(poly1_subs)[-1]\n",
    "        rho2_value=solve(poly2_subs)[-1]\n",
    "        \n",
    "        \n",
    "        x_1_replace=solve(sqrt((x_1+mu)**2+x_2**2)-rho1_value,x_1)\n",
    "        x2_value= solve(sqrt((x_1_replace[-1]+mu-1)**2+x_2**2)-rho2_value,x_2)\n",
    "        x2_value=x2_value[-1]\n",
    "        x1_value=x_1_replace[-1].subs(x_2,x2_value)\n",
    "        #print(x2_value, x1_value)\n",
    "        \n",
    "        omega_value=omega.subs(J_1,j1).subs(J_2,t)\n",
    "        \n",
    "        phi_11=omega_value+(1-mu)*(3*(x1_value+mu)**2-rho1_value**2)/rho1_value**5+\\\n",
    "        mu*(3*(x1_value+mu-1)**2-rho2_value**2)/rho2_value**5+3*(1-mu)*j1*\\\n",
    "        (5*(x1_value+mu)**2-rho1_value**2)/rho1_value**7+\\\n",
    "        3*mu*t*(5*(x1_value+mu-1)**2-rho2_value**2)/rho2_value**7\n",
    "        \n",
    "        phi_12=3*x2_value*( (1-mu)*(x1_value+mu)/rho1_value**5+mu*(x1_value+mu-1)/rho2_value\\\n",
    "                          **5+5*(1-mu)*j1*(x1_value+mu)/rho1_value**7+\\\n",
    "                          5*mu*t*(x1_value+mu-1)/rho2_value**7)\n",
    "        \n",
    "        phi_22=omega_value+(1-mu)*(3*x2_value**2-rho1_value**2)/rho1_value**5+mu*(3\\\n",
    "                *x2_value**2-rho2_value**2)/rho2_value**5+3*(1-mu)*j1*\\\n",
    "        (5*x2_value**2-rho1_value**2)/rho1_value**7+3*mu*t*(5*x2_value**2-rho2_value**2)/\\\n",
    "        rho2_value**7\n",
    "        \n",
    "        mu1=solve((4*omega_value-phi_11-phi_22)**2-4*(phi_11*phi_22-phi_12**2),mu)\n",
    "        mu2=solve(4*omega_value-phi_11-phi_22 ,mu)\n",
    "        mu_result=min(ii for ii in mu1+mu2 if ii>0)\n",
    "        set_of_mu.append(mu_result)\n",
    "        count+=1\n",
    "        print(\"Finished %i/10, iteration %i/5. Value: %f\"%(count,supercount,mu_result))\n",
    "    ax.plot(np.linspace(0, 1./(3*(m+1)),10)*m,np.linspace(0, 1./(3*(m+1)),10),set_of_mu,\"b\")    \n",
    "    supercount+=1\n",
    "ax.set_xlabel(\"J1\")\n",
    "ax.set_ylabel(\"J2\")\n",
    "ax.set_zlabel(\"mu_{crit}\")"
   ]
  },
  {
   "cell_type": "code",
   "execution_count": 7,
   "metadata": {
    "collapsed": false
   },
   "outputs": [
    {
     "name": "stdout",
     "output_type": "stream",
     "text": [
      "Finished 1/10, iteration 6/5. Value: 0.038521\n",
      "Finished 2/10, iteration 6/5. Value: 0.023711\n",
      "Finished 3/10, iteration 6/5. Value: 0.014697\n",
      "Finished 4/10, iteration 6/5. Value: 0.009054\n",
      "Finished 5/10, iteration 6/5. Value: 0.005464\n",
      "Finished 6/10, iteration 6/5. Value: 0.003170\n",
      "Finished 7/10, iteration 6/5. Value: 0.001720\n",
      "Finished 8/10, iteration 6/5. Value: 0.000830\n",
      "Finished 9/10, iteration 6/5. Value: 0.000320\n",
      "Finished 10/10, iteration 6/5. Value: 0.000070\n"
     ]
    }
   ],
   "source": [
    "set_of_mu=[]\n",
    "count=0\n",
    "for t in np.linspace(0, 1./3,10, endpoint=False):        \n",
    "    j1=t\n",
    "    t=0\n",
    "    poly1_subs=poly_rho1.subs(J_1,j1).subs(J_2,t)\n",
    "    poly2_subs=poly_rho2.subs(J_1,j1).subs(J_2,t)\n",
    "\n",
    "    rho1_value=solve(poly1_subs)[-1]\n",
    "    rho2_value=solve(poly2_subs)[-1]\n",
    "\n",
    "\n",
    "    x_1_replace=solve(sqrt((x_1+mu)**2+x_2**2)-rho1_value,x_1)\n",
    "    x2_value= solve(sqrt((x_1_replace[-1]+mu-1)**2+x_2**2)-rho2_value,x_2)\n",
    "    x2_value=x2_value[-1]\n",
    "    x1_value=x_1_replace[-1].subs(x_2,x2_value)\n",
    "    #print(x2_value, x1_value)\n",
    "\n",
    "    omega_value=omega.subs(J_1,j1).subs(J_2,t)\n",
    "\n",
    "    phi_11=omega_value+(1-mu)*(3*(x1_value+mu)**2-rho1_value**2)/rho1_value**5+\\\n",
    "    mu*(3*(x1_value+mu-1)**2-rho2_value**2)/rho2_value**5+3*(1-mu)*j1*\\\n",
    "    (5*(x1_value+mu)**2-rho1_value**2)/rho1_value**7+\\\n",
    "    3*mu*t*(5*(x1_value+mu-1)**2-rho2_value**2)/rho2_value**7\n",
    "\n",
    "    phi_12=3*x2_value*( (1-mu)*(x1_value+mu)/rho1_value**5+mu*(x1_value+mu-1)/rho2_value\\\n",
    "                      **5+5*(1-mu)*j1*(x1_value+mu)/rho1_value**7+\\\n",
    "                      5*mu*t*(x1_value+mu-1)/rho2_value**7)\n",
    "\n",
    "    phi_22=omega_value+(1-mu)*(3*x2_value**2-rho1_value**2)/rho1_value**5+mu*(3\\\n",
    "            *x2_value**2-rho2_value**2)/rho2_value**5+3*(1-mu)*j1*\\\n",
    "    (5*x2_value**2-rho1_value**2)/rho1_value**7+3*mu*t*(5*x2_value**2-rho2_value**2)/\\\n",
    "    rho2_value**7\n",
    "\n",
    "    mu1=solve((4*omega_value-phi_11-phi_22)**2-4*(phi_11*phi_22-phi_12**2),mu)\n",
    "    mu2=solve(4*omega_value-phi_11-phi_22 ,mu)\n",
    "    mu_result=min(ii for ii in mu1+mu2 if ii>0)\n",
    "    set_of_mu.append(mu_result)\n",
    "    count+=1\n",
    "    print(\"Finished %i/10, iteration %i/5. Value: %f\"%(count,supercount,mu_result))\n",
    "ax.plot(np.linspace(0, 1./3,10,endpoint=False),[0]*10,set_of_mu,\"b\")    \n",
    "supercount+=1\n"
   ]
  },
  {
   "cell_type": "code",
   "execution_count": 8,
   "metadata": {
    "collapsed": false
   },
   "outputs": [
    {
     "name": "stdout",
     "output_type": "stream",
     "text": [
      "Finished 1/10, iteration 7/5. Value: 0.000003\n",
      "Finished 2/10, iteration 7/5. Value: 0.000072\n",
      "Finished 3/10, iteration 7/5. Value: 0.000253\n",
      "Finished 4/10, iteration 7/5. Value: 0.000598\n",
      "Finished 5/10, iteration 7/5. Value: 0.001192\n",
      "Finished 6/10, iteration 7/5. Value: 0.002186\n",
      "Finished 7/10, iteration 7/5. Value: 0.003855\n",
      "Finished 8/10, iteration 7/5. Value: 0.006762\n",
      "Finished 9/10, iteration 7/5. Value: 0.012227\n",
      "Finished 10/10, iteration 7/5. Value: 0.024131\n"
     ]
    }
   ],
   "source": [
    "set_of_mu=[]\n",
    "count=0\n",
    "for t in np.linspace(0.01, 1./3,10):        \n",
    "    j1=1/3.-t    \n",
    "    poly1_subs=poly_rho1.subs(J_1,j1).subs(J_2,t)\n",
    "    poly2_subs=poly_rho2.subs(J_1,j1).subs(J_2,t)\n",
    "\n",
    "    rho1_value=solve(poly1_subs)[-1]\n",
    "    rho2_value=solve(poly2_subs)[-1]\n",
    "\n",
    "\n",
    "    x_1_replace=solve(sqrt((x_1+mu)**2+x_2**2)-rho1_value,x_1)\n",
    "    x2_value= solve(sqrt((x_1_replace[-1]+mu-1)**2+x_2**2)-rho2_value,x_2)\n",
    "    x2_value=x2_value[-1]\n",
    "    x1_value=x_1_replace[-1].subs(x_2,x2_value)\n",
    "    #print(x2_value, x1_value)\n",
    "\n",
    "    omega_value=omega.subs(J_1,j1).subs(J_2,t)\n",
    "\n",
    "    phi_11=omega_value+(1-mu)*(3*(x1_value+mu)**2-rho1_value**2)/rho1_value**5+\\\n",
    "    mu*(3*(x1_value+mu-1)**2-rho2_value**2)/rho2_value**5+3*(1-mu)*j1*\\\n",
    "    (5*(x1_value+mu)**2-rho1_value**2)/rho1_value**7+\\\n",
    "    3*mu*t*(5*(x1_value+mu-1)**2-rho2_value**2)/rho2_value**7\n",
    "\n",
    "    phi_12=3*x2_value*( (1-mu)*(x1_value+mu)/rho1_value**5+mu*(x1_value+mu-1)/rho2_value\\\n",
    "                      **5+5*(1-mu)*j1*(x1_value+mu)/rho1_value**7+\\\n",
    "                      5*mu*t*(x1_value+mu-1)/rho2_value**7)\n",
    "\n",
    "    phi_22=omega_value+(1-mu)*(3*x2_value**2-rho1_value**2)/rho1_value**5+mu*(3\\\n",
    "            *x2_value**2-rho2_value**2)/rho2_value**5+3*(1-mu)*j1*\\\n",
    "    (5*x2_value**2-rho1_value**2)/rho1_value**7+3*mu*t*(5*x2_value**2-rho2_value**2)/\\\n",
    "    rho2_value**7\n",
    "\n",
    "    mu1=solve((4*omega_value-phi_11-phi_22)**2-4*(phi_11*phi_22-phi_12**2),mu)\n",
    "    mu2=solve(4*omega_value-phi_11-phi_22 ,mu)\n",
    "    mu_result=min(ii for ii in mu1+mu2 if ii>0)\n",
    "    set_of_mu.append(mu_result)\n",
    "    count+=1\n",
    "    print(\"Finished %i/10, iteration %i/5. Value: %f\"%(count,supercount,mu_result))\n",
    "ax.plot(1/3.-np.linspace(0.01, 1./3,10),np.linspace(0.01, 1./3,10),set_of_mu,\"b\")    \n",
    "supercount+=1\n"
   ]
  },
  {
   "cell_type": "code",
   "execution_count": 9,
   "metadata": {
    "collapsed": true
   },
   "outputs": [],
   "source": [
    "plt.show()"
   ]
  },
  {
   "cell_type": "code",
   "execution_count": null,
   "metadata": {
    "collapsed": true
   },
   "outputs": [],
   "source": []
  }
 ],
 "metadata": {
  "anaconda-cloud": {},
  "kernelspec": {
   "display_name": "Python [Root]",
   "language": "python",
   "name": "Python [Root]"
  },
  "language_info": {
   "codemirror_mode": {
    "name": "ipython",
    "version": 3
   },
   "file_extension": ".py",
   "mimetype": "text/x-python",
   "name": "python",
   "nbconvert_exporter": "python",
   "pygments_lexer": "ipython3",
   "version": "3.5.2"
  }
 },
 "nbformat": 4,
 "nbformat_minor": 0
}
