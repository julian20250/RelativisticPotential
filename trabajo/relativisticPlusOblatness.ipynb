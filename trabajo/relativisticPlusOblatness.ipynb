{
 "cells": [
  {
   "cell_type": "code",
   "execution_count": 1,
   "metadata": {
    "collapsed": true
   },
   "outputs": [],
   "source": [
    "from sympy import *\n",
    "import numpy as np\n",
    "from mpl_toolkits.mplot3d import Axes3D\n",
    "import matplotlib.pyplot as plt\n",
    "from matplotlib import rc\n",
    "rc('text', usetex=True)"
   ]
  },
  {
   "cell_type": "code",
   "execution_count": 2,
   "metadata": {
    "collapsed": true
   },
   "outputs": [],
   "source": [
    "#Cool Printing\n",
    "init_printing()"
   ]
  },
  {
   "cell_type": "code",
   "execution_count": 3,
   "metadata": {
    "collapsed": true
   },
   "outputs": [],
   "source": [
    "#Defining Variables\n",
    "J_1,J_2,omega,x_1,x_2,mu, rho_1,rho_2,A_1,A_2=symbols(\"J_1 J_2 omega x_1 x_2 mu rho_1 rho_2 \\\n",
    "                                                A_1,A_2\", real=True)\n",
    "rhoA1,rhoA2=symbols(\"rhoA1 rhoA2\", real=True)\n",
    "omega=(1+2*(A_1+A_2)+3*(J_1+J_2))"
   ]
  },
  {
   "cell_type": "code",
   "execution_count": 4,
   "metadata": {
    "collapsed": true
   },
   "outputs": [],
   "source": [
    "poly_rho1=omega*rhoA1**5-rhoA1**2-3*J_1-2*A_1*rhoA1\n",
    "poly_rho2=omega*rhoA2**5-rhoA2**2-3*J_2-2*A_2*rhoA2"
   ]
  },
  {
   "cell_type": "code",
   "execution_count": 5,
   "metadata": {
    "collapsed": true
   },
   "outputs": [],
   "source": [
    "fig = plt.figure()\n",
    "ax = fig.add_subplot(111, projection='3d')\n",
    "supercount=1"
   ]
  },
  {
   "cell_type": "code",
   "execution_count": 6,
   "metadata": {
    "collapsed": false
   },
   "outputs": [],
   "source": [
    "rho_1, rho_2=sqrt((x_1+mu)**2+x_2**2),sqrt((x_1+mu-1)**2+x_2**2)\n",
    "U=-(1-mu)*(1/rho_1+A_1/rho_1**2+J_1/rho_1**3)-mu*(1/rho_2+A_2/rho_2**2+J_2/rho_2**3)\n",
    "U11=diff(U,x_1,x_1)\n",
    "U22=diff(U,x_2,x_2)\n",
    "U12=diff(U,x_1,x_2)"
   ]
  },
  {
   "cell_type": "code",
   "execution_count": 7,
   "metadata": {
    "collapsed": false
   },
   "outputs": [
    {
     "data": {
      "image/png": "[encoded data removed]",
      "text/latex": [
       "$$- \\mu \\left(\\frac{J_{2}}{\\left(x_{2}^{2} + \\left(\\mu + x_{1} - 1\\right)^{2}\\right)^{\\frac{3}{2}}} + \\frac{1}{\\sqrt{x_{2}^{2} + \\left(\\mu + x_{1} - 1\\right)^{2}}}\\right) + \\left(\\mu - 1\\right) \\left(\\frac{J_{1}}{\\left(x_{2}^{2} + \\left(\\mu + x_{1}\\right)^{2}\\right)^{\\frac{3}{2}}} + \\frac{1}{\\sqrt{x_{2}^{2} + \\left(\\mu + x_{1}\\right)^{2}}}\\right)$$"
      ],
      "text/plain": [
       "    ⎛           J₂                         1            ⎞           ⎛         \n",
       "- μ⋅⎜──────────────────────── + ────────────────────────⎟ + (μ - 1)⋅⎜─────────\n",
       "    ⎜                     3/2      _____________________⎟           ⎜         \n",
       "    ⎜⎛  2               2⎞        ╱   2               2 ⎟           ⎜⎛  2     \n",
       "    ⎝⎝x₂  + (μ + x₁ - 1) ⎠      ╲╱  x₂  + (μ + x₁ - 1)  ⎠           ⎝⎝x₂  + (μ\n",
       "\n",
       "J₁                     1          ⎞\n",
       "─────────── + ────────────────────⎟\n",
       "        3/2      _________________⎟\n",
       "      2⎞        ╱   2           2 ⎟\n",
       " + x₁) ⎠      ╲╱  x₂  + (μ + x₁)  ⎠"
      ]
     },
     "execution_count": 7,
     "metadata": {},
     "output_type": "execute_result"
    }
   ],
   "source": [
    "#Give values to A_1, A_2\n",
    "U=U.subs(A_1,0).subs(A_2,0)\n",
    "U11=U11.subs(A_1,0).subs(A_2,0)\n",
    "U22=U22.subs(A_1,0).subs(A_2,0)\n",
    "U12=U12.subs(A_1,0).subs(A_2,0)\n",
    "poly_rho1=poly_rho1.subs(A_1,0).subs(A_2,0)\n",
    "poly_rho2=poly_rho2.subs(A_2,0).subs(A_1,0)\n",
    "omega=omega.subs(A_1,0).subs(A_2,0)\n",
    "U"
   ]
  },
  {
   "cell_type": "code",
   "execution_count": 8,
   "metadata": {
    "collapsed": false
   },
   "outputs": [
    {
     "name": "stdout",
     "output_type": "stream",
     "text": [
      "[-sqrt(69)/18 + 1/2, sqrt(69)/18 + 1/2] []\n",
      "Finished 1/10, iteration 1/5. Value: 0.038521\n",
      "[0.0346882902015112, 0.977518753307666] [5.00000000000000]\n",
      "Finished 2/10, iteration 1/5. Value: 0.034688\n",
      "[0.0319998202272180, 0.986789857955227] [2.75000000000000]\n",
      "Finished 3/10, iteration 1/5. Value: 0.032000\n",
      "[0.0300077657551730, 0.992325333873680] [2.00000000000000]\n",
      "Finished 4/10, iteration 1/5. Value: 0.030008\n",
      "[0.0284713820330458, 0.995683541366951] [1.62500000000000]\n",
      "Finished 5/10, iteration 1/5. Value: 0.028471\n",
      "[0.0272495803336136, 0.997718448347737] [1.40000000000000]\n",
      "Finished 6/10, iteration 1/5. Value: 0.027250\n",
      "[0.0262541579864692, 0.998922680939930] [1.25000000000000]\n",
      "Finished 7/10, iteration 1/5. Value: 0.026254\n",
      "[0.0254271233877032, 0.999592501583175] [1.14285714285714]\n",
      "Finished 8/10, iteration 1/5. Value: 0.025427\n",
      "[0.0247287718074390, 0.999912271401702] [1.06250000000000]\n",
      "Finished 9/10, iteration 1/5. Value: 0.024729\n",
      "[0.0241309982898378, 1.00000000000000] [1.00000000000000]\n",
      "Finished 10/10, iteration 1/5. Value: 0.024131\n",
      "[-sqrt(69)/18 + 1/2, sqrt(69)/18 + 1/2] []\n",
      "Finished 1/10, iteration 2/5. Value: 0.038521\n",
      "[0.0308933014021427, 0.975220831977728] [9.32680766323312]\n",
      "Finished 2/10, iteration 2/5. Value: 0.030893\n",
      "[0.0249552780368022, 0.984048507473913] [4.89801830238556]\n",
      "Finished 3/10, iteration 2/5. Value: 0.024955\n",
      "[0.0202465726016725, 0.989790344018858] [3.40723849666918]\n",
      "Finished 4/10, iteration 2/5. Value: 0.020247\n",
      "[0.0164646951091765, 0.993558032937278] [2.64791493907895]\n",
      "Finished 5/10, iteration 2/5. Value: 0.016465\n",
      "[0.0133999287462168, 0.996038176267367] [2.17942800849559]\n",
      "Finished 6/10, iteration 2/5. Value: 0.013400\n",
      "[0.0109004946139389, 0.997663368671127] [1.85528409499853]\n",
      "Finished 7/10, iteration 2/5. Value: 0.010900\n",
      "[0.00885290261108929, 0.998711829885249] [1.61292400687246]\n",
      "Finished 8/10, iteration 2/5. Value: 0.008853\n",
      "[0.00717021544940887, 0.999366044153123] [1.42120736527046]\n",
      "Finished 9/10, iteration 2/5. Value: 0.007170\n",
      "[0.00578463197933479, 0.999747888582665] [1.26292427808057]\n",
      "Finished 10/10, iteration 2/5. Value: 0.005785\n",
      "[-sqrt(69)/18 + 1/2, sqrt(69)/18 + 1/2] []\n",
      "Finished 1/10, iteration 3/5. Value: 0.038521\n",
      "[0.0285490679978047, 0.973341292550995] [28.8908628564049]\n",
      "Finished 2/10, iteration 3/5. Value: 0.028549\n",
      "[0.0211915604194199, 0.981554847741503] [14.6298579836785]\n",
      "Finished 3/10, iteration 3/5. Value: 0.021192\n",
      "[0.0157357155913159, 0.987268826377858] [9.81442431657475]\n",
      "Finished 4/10, iteration 3/5. Value: 0.015736\n",
      "[0.0116673657467260, 0.991266439263419] [7.34777041460971]\n",
      "Finished 5/10, iteration 3/5. Value: 0.011667\n",
      "[0.00861826497575720, 0.994075525021274] [5.81365981054510]\n",
      "Finished 6/10, iteration 3/5. Value: 0.008618\n",
      "[0.00632424231889310, 0.996052554439096] [4.74170627827234]\n",
      "Finished 7/10, iteration 3/5. Value: 0.006324\n",
      "[0.00459462157304048, 0.997440331206381] [3.93128568873313]\n",
      "Finished 8/10, iteration 3/5. Value: 0.004595\n",
      "[0.00329062228951371, 0.998406146971016] [3.28266763025318]\n",
      "Finished 9/10, iteration 3/5. Value: 0.003291\n",
      "[0.00231029162629880, 0.999066723238114] [2.74080868974550]\n",
      "Finished 10/10, iteration 3/5. Value: 0.002310\n",
      "[-sqrt(69)/18 + 1/2, sqrt(69)/18 + 1/2] []\n",
      "Finished 1/10, iteration 4/5. Value: 0.038521\n",
      "[0.0266587074490056, 0.971450932002194] [-27.8908628564041]\n",
      "Finished 2/10, iteration 4/5. Value: 0.026659\n",
      "[0.0184451522584920, 0.978808439580580] [-13.6298579836789]\n",
      "Finished 3/10, iteration 4/5. Value: 0.018445\n",
      "[0.0127311736221400, 0.984264284408681] [-8.81442431657484]\n",
      "Finished 4/10, iteration 4/5. Value: 0.012731\n",
      "[0.00873356073658085, 0.988332634253274] [-6.34777041460967]\n",
      "Finished 5/10, iteration 4/5. Value: 0.008734\n",
      "[0.00592447497872508, 0.991381735024243] [-4.81365981054515]\n",
      "Finished 6/10, iteration 4/5. Value: 0.005924\n",
      "[0.00394744556090403, 0.993675757681106] [-3.74170627827225]\n",
      "Finished 7/10, iteration 4/5. Value: 0.003947\n",
      "[0.00255966879361918, 0.995405378426959] [-2.93128568873310]\n",
      "Finished 8/10, iteration 4/5. Value: 0.002560\n",
      "[0.00159385302898561, 0.996709377710486] [-2.28266763025318]\n",
      "Finished 9/10, iteration 4/5. Value: 0.001594\n",
      "[0.000933276761886088, 0.997689708373701] [-1.74080868974548]\n",
      "Finished 10/10, iteration 4/5. Value: 0.000933\n",
      "[-sqrt(69)/18 + 1/2, sqrt(69)/18 + 1/2] []\n",
      "Finished 1/10, iteration 5/5. Value: 0.038521\n",
      "[0.0247791680222750, 0.969106698597860] [-8.32680766323309]\n",
      "Finished 2/10, iteration 5/5. Value: 0.024779\n",
      "[0.0159514925260865, 0.975044721963198] [-3.89801830238556]\n",
      "Finished 3/10, iteration 5/5. Value: 0.015951\n",
      "[0.0102096559811433, 0.979753427398326] [-2.40723849666916]\n",
      "Finished 4/10, iteration 5/5. Value: 0.010210\n",
      "[0.00644196706272150, 0.983535304890823] [-1.64791493907894]\n",
      "Finished 5/10, iteration 5/5. Value: 0.006442\n",
      "[0.00396182373263374, 0.986600071253782] [-1.17942800849561]\n",
      "Finished 6/10, iteration 5/5. Value: 0.003962\n",
      "[0.00233663132887505, 0.989099505386062] [-0.855284094998522]\n",
      "Finished 7/10, iteration 5/5. Value: 0.002337\n",
      "[0.00128817011475104, 0.991147097388911] [-0.612924006872457]\n",
      "Finished 8/10, iteration 5/5. Value: 0.001288\n",
      "[0.000633955846875167, 0.992829784550593] [-0.421207365270457]\n",
      "Finished 9/10, iteration 5/5. Value: 0.000634\n",
      "[0.000252111417335423, 0.994215368020665] [-0.262924278080578]\n",
      "Finished 10/10, iteration 5/5. Value: 0.000252\n"
     ]
    },
    {
     "data": {
      "text/plain": [
       "Text(0.5,0,'mu_{crit}')"
      ]
     },
     "execution_count": 8,
     "metadata": {},
     "output_type": "execute_result"
    }
   ],
   "source": [
    "slope_list=np.tan(np.linspace(0,np.pi/2.,5, endpoint=False))\n",
    "\n",
    "for m in slope_list:\n",
    "    set_of_mu=[]\n",
    "    count=0\n",
    "    for t in np.linspace(0, 1./(3*(m+1)),10):        \n",
    "        j1=m*t\n",
    "        poly1_subs=poly_rho1.subs(J_1,j1).subs(J_2,t)\n",
    "        poly2_subs=poly_rho2.subs(J_1,j1).subs(J_2,t)\n",
    "        \n",
    "        rho1_value=solve(poly1_subs,rhoA1)[-1]  \n",
    "        rho2_value=solve(poly2_subs,rhoA2)[-1]\n",
    "        \n",
    "        x_1_replace=solve(sqrt((x_1+mu)**2+x_2**2)-rho1_value,x_1)\n",
    "        #print(x_1_replace)\n",
    "        x2_value= solve(sqrt((x_1_replace[-1]+mu-1)**2+x_2**2)-rho2_value,x_2)\n",
    "        x2_value=x2_value[-1]\n",
    "        x1_value=x_1_replace[-1].subs(x_2,x2_value)\n",
    "        #print(x2_value, x1_value)\n",
    "        #print(\"Step1\")\n",
    "        \n",
    "        omega_value=omega.subs(J_1,j1).subs(J_2,t)\n",
    "        \n",
    "        U11_value=U11.subs(x_1,x1_value).subs(x_2,x2_value).subs(J_1,j1).subs(J_2,t)\n",
    "        U22_value=U22.subs(x_1,x1_value).subs(x_2,x2_value).subs(J_1,j1).subs(J_2,t)\n",
    "        U12_value=U12.subs(x_1,x1_value).subs(x_2,x2_value).subs(J_1,j1).subs(J_2,t)\n",
    "        \n",
    "        #mu1=solve((U11_value+U22_value-2*omega_value)**2-4*(U12_value-\\\n",
    "                 # U11_value*U22_value-omega_value*(U11_value+U22_value)-\\\n",
    "                  #omega_value**2),mu)\n",
    "        #mu2=solve(U11_value+U22_value-2*omega_value ,mu)\n",
    "        phi_11=omega_value+(1-mu)*(3*(x1_value+mu)**2-rho1_value**2)/rho1_value**5+\\\n",
    "        mu*(3*(x1_value+mu-1)**2-rho2_value**2)/rho2_value**5+3*(1-mu)*j1*\\\n",
    "        (5*(x1_value+mu)**2-rho1_value**2)/rho1_value**7+\\\n",
    "        3*mu*t*(5*(x1_value+mu-1)**2-rho2_value**2)/rho2_value**7\n",
    "        \n",
    "        phi_12=3*x2_value*( (1-mu)*(x1_value+mu)/rho1_value**5+mu*(x1_value+mu-1)/rho2_value\\\n",
    "                          **5+5*(1-mu)*j1*(x1_value+mu)/rho1_value**7+\\\n",
    "                          5*mu*t*(x1_value+mu-1)/rho2_value**7)\n",
    "        \n",
    "        phi_22=omega_value+(1-mu)*(3*x2_value**2-rho1_value**2)/rho1_value**5+mu*(3\\\n",
    "                *x2_value**2-rho2_value**2)/rho2_value**5+3*(1-mu)*j1*\\\n",
    "        (5*x2_value**2-rho1_value**2)/rho1_value**7+3*mu*t*(5*x2_value**2-rho2_value**2)/\\\n",
    "        rho2_value**7\n",
    "        \n",
    "        mu1=solve((4*omega_value-phi_11-phi_22)**2-4*(phi_11*phi_22-phi_12**2),mu)\n",
    "        mu2=solve(4*omega_value-phi_11-phi_22 ,mu)\n",
    "        \n",
    "        print(mu1,mu2)\n",
    "        #print(\"Step3\")\n",
    "        mu_result=min(ii for ii in mu1+mu2 if ii>0)\n",
    "        set_of_mu.append(mu_result)\n",
    "        count+=1\n",
    "        print(\"Finished %i/10, iteration %i/5. Value: %f\"%(count,supercount,mu_result))\n",
    "    ax.plot(np.linspace(0, 1./(3*(m+1)),10)*m,np.linspace(0, 1./(3*(m+1)),10),set_of_mu,\"b\")    \n",
    "    supercount+=1\n",
    "ax.set_xlabel(\"J1\")\n",
    "ax.set_ylabel(\"J2\")\n",
    "ax.set_zlabel(\"mu_{crit}\")"
   ]
  },
  {
   "cell_type": "code",
   "execution_count": 9,
   "metadata": {
    "collapsed": true
   },
   "outputs": [],
   "source": [
    "plt.show()"
   ]
  },
  {
   "cell_type": "code",
   "execution_count": null,
   "metadata": {
    "collapsed": true
   },
   "outputs": [],
   "source": []
  }
 ],
 "metadata": {
  "anaconda-cloud": {},
  "kernelspec": {
   "display_name": "Python [Root]",
   "language": "python",
   "name": "Python [Root]"
  },
  "language_info": {
   "codemirror_mode": {
    "name": "ipython",
    "version": 3
   },
   "file_extension": ".py",
   "mimetype": "text/x-python",
   "name": "python",
   "nbconvert_exporter": "python",
   "pygments_lexer": "ipython3",
   "version": "3.5.2"
  }
 },
 "nbformat": 4,
 "nbformat_minor": 0
}
